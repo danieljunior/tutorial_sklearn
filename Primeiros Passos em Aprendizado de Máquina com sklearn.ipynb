{
 "cells": [
  {
   "cell_type": "code",
   "execution_count": 1,
   "metadata": {
    "slideshow": {
     "slide_type": "skip"
    }
   },
   "outputs": [],
   "source": [
    "from IPython.core.display import HTML\n",
    "%matplotlib inline"
   ]
  },
  {
   "cell_type": "markdown",
   "metadata": {
    "slideshow": {
     "slide_type": "slide"
    }
   },
   "source": [
    "<div style=\"margin: 0 auto;\">\n",
    "    <img src='imagens/ic.png' style='display: inline;' height=150 width=150/>\n",
    "</div>\n",
    "\n",
    "# Primeiros Passos em Aprendizado de Máquina com sklearn\n",
    "\n",
    "<div style='float: right;'>\n",
    "    <h3>Daniel Junior</h3>\n",
    "    <span>Doutorando em Ciência da Computação</span><br/>\n",
    "    <br/>\n",
    "    <span><strong>Orientadores:</strong> Aline Paes, Daniel Oliveira</span><br/>\n",
    "<div>"
   ]
  },
  {
   "cell_type": "markdown",
   "metadata": {
    "slideshow": {
     "slide_type": "slide"
    }
   },
   "source": [
    "# Roteiro\n",
    "\n",
    "- Introdução\n",
    "- Tipos de Aprendizado de Máquina\n",
    "    - Aprendizado Supervisionado\n",
    "        - Classificação\n",
    "            - Avaliação\n",
    "    - Aprendizado Não-Supervisionado\n",
    "        - Agrupamento\n",
    "- Visualização\n"
   ]
  },
  {
   "cell_type": "markdown",
   "metadata": {
    "slideshow": {
     "slide_type": "slide"
    }
   },
   "source": [
    "# Introdução\n",
    "\n",
    "- Objetivo: Fazer com que computadores se auto-programem\n",
    "- Automação da automação\n",
    "- Mudança de paradigma:\n",
    "    - ### Entrada + <span style=\"color:blue\">**Programa**</span> = Saída\n",
    "    - ### Entrada + Saída = <span style=\"color:blue\">**Programa**</span>\n"
   ]
  },
  {
   "cell_type": "markdown",
   "metadata": {
    "slideshow": {
     "slide_type": "slide"
    }
   },
   "source": [
    "# Quando um programa está aprendendo?\n",
    "\n",
    "> ### Um programa aprende a  partir da experiência  E,  em  relação  a uma  classe  de tarefas T, com medida de desempenho P, se seu desempenho em T, medido por P, melhora com E.\n",
    "\n",
    "<div style='float: right;'> Mitchell, 1997</div>"
   ]
  },
  {
   "cell_type": "markdown",
   "metadata": {
    "slideshow": {
     "slide_type": "slide"
    }
   },
   "source": [
    "### <u>Exemplo</u>\n",
    "- Detecção de bons clientes para adquirirem um cartão de crédito\n",
    "    - **Tarefa T:** classificar potenciais novos clientes como bons ou maus pagadores\n",
    "    - **Medida de Desempenho P:** porcentagem de clientes classificados corretamente\n",
    "    - **Experiência de Treinamento E:** uma base de dados histórica em que os clientes já conhecidos são previamente classificados como bons ou maus pagadores"
   ]
  },
  {
   "cell_type": "markdown",
   "metadata": {
    "slideshow": {
     "slide_type": "slide"
    }
   },
   "source": [
    "# Por que simplesmente não programar a melhora?\n",
    "\n",
    "- Nem sempre é possível <span style=\"color:red\">antecipar todas</span> as possíveis <span style=\"color:red\">situações</span>.\n",
    "[//]: # (Ex.: um robô que caminha em labirintos)\n",
    "- Não é possível <span style=\"color:red\">antecipar todas as mudanças</span> que podem ocorrer com o tempo.\n",
    "[//]: # (Ex.: Programa que prediz valores no mercado de ações deve se adaptar às mudanças na economia)\n",
    "- O programador <span style=\"color:red\">não sabe como programar a solução</span> para um problema\n",
    "[//]: # (Como fazer um computador reconhecer faces?)"
   ]
  },
  {
   "cell_type": "markdown",
   "metadata": {
    "slideshow": {
     "slide_type": "slide"
    }
   },
   "source": [
    "# Componentes Principais do Aprendizado de Máquina\n",
    "- **Modelo**\n",
    "\n",
    "- **Representação**\n",
    "\n",
    "- **Conhecimento a priori**\n",
    "\n",
    "- **Avaliação**\n",
    "\n",
    "- **Otimização**\n"
   ]
  },
  {
   "cell_type": "markdown",
   "metadata": {
    "slideshow": {
     "slide_type": "slide"
    }
   },
   "source": [
    "# Tipos de Aprendizado\n",
    "<center>\n",
    "    <img src=\"imagens/tipos.png\" height='550' width='800'>\n",
    "</center>\n",
    "<span>Fonte: https://i.imgur.com/mZdJLdg.png</span>"
   ]
  },
  {
   "cell_type": "markdown",
   "metadata": {
    "slideshow": {
     "slide_type": "slide"
    }
   },
   "source": [
    "# Ferramentas para Aprendizado de Máquina\n",
    "<br/>\n",
    "<center>  \n",
    "    <img src=\"imagens/scikit.png\" style=\"display: inline; margin-right: 10%;\">\n",
    "    <img src=\"imagens/weka.png\" style=\"display: inline;\">\n",
    "</center>"
   ]
  },
  {
   "cell_type": "markdown",
   "metadata": {
    "slideshow": {
     "slide_type": "slide"
    }
   },
   "source": [
    "# Aprendizado Supervisionado\n",
    "\n",
    "- Dados de treinamento **incluem** a saída desejada\n",
    "\n",
    "\n",
    "- Dado um conjunto de treinamento com **N** exemplos, representados por meio de pares de entrada e saída\n",
    "    - (x<sub>1</sub>,y<sub>1</sub>), (x<sub>2</sub>,<sub>y2</sub>), ..., (x<sub>n</sub>,y<sub>n</sub>)\n",
    "onde cada y<sub>i</sub> foi gerado por uma **função desconhecida y = f(x)**\n",
    "    - descobrir uma função <span style=\"color:blue\">**h** (hipótese)</span> que é uma <span style=\"color:red\">aproximação</span> da função verdadeira **f**\n"
   ]
  },
  {
   "cell_type": "markdown",
   "metadata": {
    "slideshow": {
     "slide_type": "slide"
    }
   },
   "source": [
    "# Classificação\n",
    "\n",
    "- Quando o <u>domínio</u> de **f(x)** é um conjunto **finito de valores**, a tarefa é conhecida como **Classificação**\n",
    "\n",
    "- Exemplo: \n",
    "    - Predizer a espécie de uma flor, a partir de medidas das pétalas e sépalas\n",
    "\n",
    "<center>\n",
    "    <img src=\"imagens/iris.png\" height='550' width='800'>\n",
    "</center>\n",
    "<span>Fonte:http://vsantos.me/img/2020-10-07_11-24-45_iris.png</span>"
   ]
  },
  {
   "cell_type": "markdown",
   "metadata": {
    "slideshow": {
     "slide_type": "slide"
    }
   },
   "source": [
    "# KNN (K Nearest Neighbors)\n",
    "\n",
    "- Modelo do tipo _Lazy_\n",
    "- Encontra o **k vizinhos mais próximos** e realiza a predição baseada nas classes desses vizinhos\n",
    "<center>\n",
    "<img src=\"imagens/knn.gif\">\n",
    "</center>\n",
    "<span>Fonte: https://www.mathworks.com/matlabcentral/mlc-downloads/downloads/submissions/63621/versions/2/screenshot.gif</span>"
   ]
  },
  {
   "cell_type": "code",
   "execution_count": 2,
   "metadata": {
    "slideshow": {
     "slide_type": "slide"
    }
   },
   "outputs": [
    {
     "name": "stdout",
     "output_type": "stream",
     "text": [
      ".. _iris_dataset:\n",
      "\n",
      "Iris plants dataset\n",
      "--------------------\n",
      "\n",
      "**Data Set Characteristics:**\n",
      "\n",
      "    :Number of Instances: 150 (50 in each of three classes)\n",
      "    :Number of Attributes: 4 numeric, predictive attributes and the class\n",
      "    :Attribute Information:\n",
      "        - sepal length in cm\n",
      "        - sepal width in cm\n",
      "        - petal length in cm\n",
      "        - petal width in cm\n",
      "        - class:\n",
      "                - Iris-Setosa\n",
      "                - Iris-Versicolour\n",
      "                - Iris-Virginica\n",
      "                \n",
      "    :Summary Statistics:\n",
      "\n",
      "    ============== ==== ==== ======= ===== ====================\n",
      "                    Min  Max   Mean    SD   Class Correlation\n",
      "    ============== ==== ==== ======= ===== ====================\n",
      "    sepal length:   4.3  7.9   5.84   0.83    0.7826\n",
      "    sepal width:    2.0  4.4   3.05   0.43   -0.4194\n",
      "    petal length:   1.0  6.9   3.76   1.76    0.9490  (high!)\n",
      "    petal width:    0.1  2.5   1.20   0.76    0.9565  (high!)\n",
      "    ============== ==== ==== ======= ===== ====================\n",
      "\n",
      "    :Missing Attribute Values: None\n",
      "    :Class Distribution: 33.3% for each of 3 classes.\n",
      "    :Creator: R.A. Fisher\n",
      "    :Donor: Michael Marshall (MARSHALL%PLU@io.arc.nasa.gov)\n",
      "    :Date: July, 1988\n",
      "\n",
      "The famous Iris database, first used by Sir R.A. Fisher. The dataset is taken\n",
      "from Fisher's paper. Note that it's the same as in R, but not as in the UCI\n",
      "Machine Learning Repository, which has two wrong data points.\n",
      "\n",
      "This is perhaps the best known database to be found in the\n",
      "pattern recognition literature.  Fisher's paper is a classic in the field and\n",
      "is referenced frequently to this day.  (See Duda & Hart, for example.)  The\n",
      "data set contains 3 classes of 50 instances each, where each class refers to a\n",
      "type of iris plant.  One class is linearly separable from the other 2; the\n",
      "latter are NOT linearly separable from each other.\n",
      "\n",
      ".. topic:: References\n",
      "\n",
      "   - Fisher, R.A. \"The use of multiple measurements in taxonomic problems\"\n",
      "     Annual Eugenics, 7, Part II, 179-188 (1936); also in \"Contributions to\n",
      "     Mathematical Statistics\" (John Wiley, NY, 1950).\n",
      "   - Duda, R.O., & Hart, P.E. (1973) Pattern Classification and Scene Analysis.\n",
      "     (Q327.D83) John Wiley & Sons.  ISBN 0-471-22361-1.  See page 218.\n",
      "   - Dasarathy, B.V. (1980) \"Nosing Around the Neighborhood: A New System\n",
      "     Structure and Classification Rule for Recognition in Partially Exposed\n",
      "     Environments\".  IEEE Transactions on Pattern Analysis and Machine\n",
      "     Intelligence, Vol. PAMI-2, No. 1, 67-71.\n",
      "   - Gates, G.W. (1972) \"The Reduced Nearest Neighbor Rule\".  IEEE Transactions\n",
      "     on Information Theory, May 1972, 431-433.\n",
      "   - See also: 1988 MLC Proceedings, 54-64.  Cheeseman et al\"s AUTOCLASS II\n",
      "     conceptual clustering system finds 3 classes in the data.\n",
      "   - Many, many more ...\n"
     ]
    }
   ],
   "source": [
    "from sklearn import datasets\n",
    "iris = datasets.load_iris()\n",
    "\n",
    "print(iris.DESCR)"
   ]
  },
  {
   "cell_type": "code",
   "execution_count": 3,
   "metadata": {
    "slideshow": {
     "slide_type": "slide"
    },
    "tags": []
   },
   "outputs": [
    {
     "name": "stdout",
     "output_type": "stream",
     "text": [
      "Dados:  [[5.1 3.5 1.4 0.2]\n",
      " [4.9 3.  1.4 0.2]\n",
      " [4.7 3.2 1.3 0.2]\n",
      " [4.6 3.1 1.5 0.2]\n",
      " [5.  3.6 1.4 0.2]\n",
      " [5.4 3.9 1.7 0.4]\n",
      " [4.6 3.4 1.4 0.3]\n",
      " [5.  3.4 1.5 0.2]\n",
      " [4.4 2.9 1.4 0.2]\n",
      " [4.9 3.1 1.5 0.1]]\n",
      "\n",
      "Saída:  [0 0 0 0 0 0 0 0 0 0]\n"
     ]
    }
   ],
   "source": [
    "print('Dados: ', iris.data[:10])\n",
    "print()\n",
    "print('Saída: ', iris.target[:10])"
   ]
  },
  {
   "cell_type": "code",
   "execution_count": 4,
   "metadata": {
    "slideshow": {
     "slide_type": "slide"
    }
   },
   "outputs": [
    {
     "name": "stdout",
     "output_type": "stream",
     "text": [
      "Instância: [6.1 2.8 4.7 1.2]\n",
      "Predição: 1 -> versicolor\n",
      "\n",
      "Instância: [6.1 2.8 4.7 1.2]\n",
      "Predição: 1 -> versicolor\n"
     ]
    }
   ],
   "source": [
    "from sklearn.model_selection import train_test_split\n",
    "from sklearn.neighbors import KNeighborsClassifier\n",
    "\n",
    "\n",
    "iris_data_train, iris_data_test, iris_target_train, iris_target_test = train_test_split(\n",
    "     iris.data, iris.target, test_size=0.2, random_state=42)\n",
    "\n",
    "k = 7\n",
    "\n",
    "knn = KNeighborsClassifier(n_neighbors=k, metric='euclidean')\n",
    "knn.fit(iris_data_train, iris_target_train)\n",
    "\n",
    "print('Instância:',iris_data_test[0])\n",
    "prediction = knn.predict([iris_data_test[0]])[0]\n",
    "print('Predição:',prediction, '->' ,iris.target_names[prediction])\n",
    "\n",
    "knn = KNeighborsClassifier(n_neighbors=k, metric='manhattan')\n",
    "knn.fit(iris_data_train, iris_target_train)\n",
    "\n",
    "print('\\nInstância:', iris_data_test[0])\n",
    "prediction = knn.predict([iris_data_test[0]])[0]\n",
    "print('Predição:',prediction, '->' , iris.target_names[prediction])"
   ]
  },
  {
   "cell_type": "markdown",
   "metadata": {
    "slideshow": {
     "slide_type": "slide"
    }
   },
   "source": [
    "# SVM (Support Vector Machines)\n",
    "\n",
    "- Cada exemplo é visto como um ponto em um espaço de n-dimensões\n",
    "    - **n** = número de atributos\n",
    "        - o valor de cada atributo está em uma coordenada particular\n",
    "- Classificação se reduz a encontrar o **hiperplano** que diferencia as classes \n",
    "- **Vetores de suporte**: coordenadas das observações individuais\n",
    "<center>\n",
    "<img src=\"imagens/svm_support.png\">\n",
    "    </center>\n"
   ]
  },
  {
   "cell_type": "markdown",
   "metadata": {
    "slideshow": {
     "slide_type": "slide"
    }
   },
   "source": [
    "\n",
    "# SVM - Como encontrar o hiperplano?\n",
    "\n",
    "<center>    \n",
    "    <img src=\"imagens/svm1.png\" style=\"display:inline;\">\n",
    "    <img src=\"imagens/svm2.png\" style=\"display:inline;\">\n",
    "</center>"
   ]
  },
  {
   "cell_type": "markdown",
   "metadata": {
    "slideshow": {
     "slide_type": "slide"
    }
   },
   "source": [
    "# SVM - A ou B?\n",
    "<center>\n",
    "<img src=\"imagens/svm4.png\"/>\n",
    "</center>"
   ]
  },
  {
   "cell_type": "markdown",
   "metadata": {
    "slideshow": {
     "slide_type": "slide"
    }
   },
   "source": [
    "# SVM: e agora?\n",
    "<center>\n",
    "<img src=\"imagens/svm_kernel.png\"/>\n",
    "    </center>"
   ]
  },
  {
   "cell_type": "markdown",
   "metadata": {
    "slideshow": {
     "slide_type": "slide"
    }
   },
   "source": [
    "# SVM: Kernel Trick\n",
    "\n",
    "- Função que transforma os dados em uma dimensão para outra dimensão maior \n",
    "    - Converte problemas não separáveis em problemas separáveis\n",
    "    - **Função de kernel**\n",
    "    \n",
    "<center>\n",
    "<img src=\"imagens/kernel_trick.png\"/>\n",
    "</center>\n"
   ]
  },
  {
   "cell_type": "markdown",
   "metadata": {
    "slideshow": {
     "slide_type": "slide"
    }
   },
   "source": [
    "# Drug dataset\n",
    "\n",
    "- https://www.kaggle.com/prathamtripathi/drug-classification"
   ]
  },
  {
   "cell_type": "code",
   "execution_count": 5,
   "metadata": {
    "slideshow": {
     "slide_type": "-"
    }
   },
   "outputs": [
    {
     "data": {
      "text/html": [
       "<div>\n",
       "<style scoped>\n",
       "    .dataframe tbody tr th:only-of-type {\n",
       "        vertical-align: middle;\n",
       "    }\n",
       "\n",
       "    .dataframe tbody tr th {\n",
       "        vertical-align: top;\n",
       "    }\n",
       "\n",
       "    .dataframe thead th {\n",
       "        text-align: right;\n",
       "    }\n",
       "</style>\n",
       "<table border=\"1\" class=\"dataframe\">\n",
       "  <thead>\n",
       "    <tr style=\"text-align: right;\">\n",
       "      <th></th>\n",
       "      <th>Age</th>\n",
       "      <th>Sex</th>\n",
       "      <th>BP</th>\n",
       "      <th>Cholesterol</th>\n",
       "      <th>Na_to_K</th>\n",
       "      <th>Drug</th>\n",
       "    </tr>\n",
       "  </thead>\n",
       "  <tbody>\n",
       "    <tr>\n",
       "      <th>0</th>\n",
       "      <td>23</td>\n",
       "      <td>F</td>\n",
       "      <td>HIGH</td>\n",
       "      <td>HIGH</td>\n",
       "      <td>25.355</td>\n",
       "      <td>DrugY</td>\n",
       "    </tr>\n",
       "    <tr>\n",
       "      <th>1</th>\n",
       "      <td>47</td>\n",
       "      <td>M</td>\n",
       "      <td>LOW</td>\n",
       "      <td>HIGH</td>\n",
       "      <td>13.093</td>\n",
       "      <td>drugC</td>\n",
       "    </tr>\n",
       "    <tr>\n",
       "      <th>2</th>\n",
       "      <td>47</td>\n",
       "      <td>M</td>\n",
       "      <td>LOW</td>\n",
       "      <td>HIGH</td>\n",
       "      <td>10.114</td>\n",
       "      <td>drugC</td>\n",
       "    </tr>\n",
       "    <tr>\n",
       "      <th>3</th>\n",
       "      <td>28</td>\n",
       "      <td>F</td>\n",
       "      <td>NORMAL</td>\n",
       "      <td>HIGH</td>\n",
       "      <td>7.798</td>\n",
       "      <td>drugX</td>\n",
       "    </tr>\n",
       "    <tr>\n",
       "      <th>4</th>\n",
       "      <td>61</td>\n",
       "      <td>F</td>\n",
       "      <td>LOW</td>\n",
       "      <td>HIGH</td>\n",
       "      <td>18.043</td>\n",
       "      <td>DrugY</td>\n",
       "    </tr>\n",
       "    <tr>\n",
       "      <th>...</th>\n",
       "      <td>...</td>\n",
       "      <td>...</td>\n",
       "      <td>...</td>\n",
       "      <td>...</td>\n",
       "      <td>...</td>\n",
       "      <td>...</td>\n",
       "    </tr>\n",
       "    <tr>\n",
       "      <th>195</th>\n",
       "      <td>56</td>\n",
       "      <td>F</td>\n",
       "      <td>LOW</td>\n",
       "      <td>HIGH</td>\n",
       "      <td>11.567</td>\n",
       "      <td>drugC</td>\n",
       "    </tr>\n",
       "    <tr>\n",
       "      <th>196</th>\n",
       "      <td>16</td>\n",
       "      <td>M</td>\n",
       "      <td>LOW</td>\n",
       "      <td>HIGH</td>\n",
       "      <td>12.006</td>\n",
       "      <td>drugC</td>\n",
       "    </tr>\n",
       "    <tr>\n",
       "      <th>197</th>\n",
       "      <td>52</td>\n",
       "      <td>M</td>\n",
       "      <td>NORMAL</td>\n",
       "      <td>HIGH</td>\n",
       "      <td>9.894</td>\n",
       "      <td>drugX</td>\n",
       "    </tr>\n",
       "    <tr>\n",
       "      <th>198</th>\n",
       "      <td>23</td>\n",
       "      <td>M</td>\n",
       "      <td>NORMAL</td>\n",
       "      <td>NORMAL</td>\n",
       "      <td>14.020</td>\n",
       "      <td>drugX</td>\n",
       "    </tr>\n",
       "    <tr>\n",
       "      <th>199</th>\n",
       "      <td>40</td>\n",
       "      <td>F</td>\n",
       "      <td>LOW</td>\n",
       "      <td>NORMAL</td>\n",
       "      <td>11.349</td>\n",
       "      <td>drugX</td>\n",
       "    </tr>\n",
       "  </tbody>\n",
       "</table>\n",
       "<p>200 rows × 6 columns</p>\n",
       "</div>"
      ],
      "text/plain": [
       "     Age Sex      BP Cholesterol  Na_to_K   Drug\n",
       "0     23   F    HIGH        HIGH   25.355  DrugY\n",
       "1     47   M     LOW        HIGH   13.093  drugC\n",
       "2     47   M     LOW        HIGH   10.114  drugC\n",
       "3     28   F  NORMAL        HIGH    7.798  drugX\n",
       "4     61   F     LOW        HIGH   18.043  DrugY\n",
       "..   ...  ..     ...         ...      ...    ...\n",
       "195   56   F     LOW        HIGH   11.567  drugC\n",
       "196   16   M     LOW        HIGH   12.006  drugC\n",
       "197   52   M  NORMAL        HIGH    9.894  drugX\n",
       "198   23   M  NORMAL      NORMAL   14.020  drugX\n",
       "199   40   F     LOW      NORMAL   11.349  drugX\n",
       "\n",
       "[200 rows x 6 columns]"
      ]
     },
     "execution_count": 5,
     "metadata": {},
     "output_type": "execute_result"
    }
   ],
   "source": [
    "import pandas as pd\n",
    "\n",
    "drugs = pd.read_csv('drug200.csv', sep=',')\n",
    "drugs"
   ]
  },
  {
   "cell_type": "code",
   "execution_count": 6,
   "metadata": {
    "slideshow": {
     "slide_type": "slide"
    }
   },
   "outputs": [
    {
     "data": {
      "text/html": [
       "<div>\n",
       "<style scoped>\n",
       "    .dataframe tbody tr th:only-of-type {\n",
       "        vertical-align: middle;\n",
       "    }\n",
       "\n",
       "    .dataframe tbody tr th {\n",
       "        vertical-align: top;\n",
       "    }\n",
       "\n",
       "    .dataframe thead th {\n",
       "        text-align: right;\n",
       "    }\n",
       "</style>\n",
       "<table border=\"1\" class=\"dataframe\">\n",
       "  <thead>\n",
       "    <tr style=\"text-align: right;\">\n",
       "      <th></th>\n",
       "      <th>Drug</th>\n",
       "    </tr>\n",
       "  </thead>\n",
       "  <tbody>\n",
       "    <tr>\n",
       "      <th>0</th>\n",
       "      <td>DrugY</td>\n",
       "    </tr>\n",
       "    <tr>\n",
       "      <th>1</th>\n",
       "      <td>drugC</td>\n",
       "    </tr>\n",
       "    <tr>\n",
       "      <th>2</th>\n",
       "      <td>drugC</td>\n",
       "    </tr>\n",
       "    <tr>\n",
       "      <th>3</th>\n",
       "      <td>drugX</td>\n",
       "    </tr>\n",
       "    <tr>\n",
       "      <th>4</th>\n",
       "      <td>DrugY</td>\n",
       "    </tr>\n",
       "    <tr>\n",
       "      <th>...</th>\n",
       "      <td>...</td>\n",
       "    </tr>\n",
       "    <tr>\n",
       "      <th>195</th>\n",
       "      <td>drugC</td>\n",
       "    </tr>\n",
       "    <tr>\n",
       "      <th>196</th>\n",
       "      <td>drugC</td>\n",
       "    </tr>\n",
       "    <tr>\n",
       "      <th>197</th>\n",
       "      <td>drugX</td>\n",
       "    </tr>\n",
       "    <tr>\n",
       "      <th>198</th>\n",
       "      <td>drugX</td>\n",
       "    </tr>\n",
       "    <tr>\n",
       "      <th>199</th>\n",
       "      <td>drugX</td>\n",
       "    </tr>\n",
       "  </tbody>\n",
       "</table>\n",
       "<p>200 rows × 1 columns</p>\n",
       "</div>"
      ],
      "text/plain": [
       "      Drug\n",
       "0    DrugY\n",
       "1    drugC\n",
       "2    drugC\n",
       "3    drugX\n",
       "4    DrugY\n",
       "..     ...\n",
       "195  drugC\n",
       "196  drugC\n",
       "197  drugX\n",
       "198  drugX\n",
       "199  drugX\n",
       "\n",
       "[200 rows x 1 columns]"
      ]
     },
     "execution_count": 6,
     "metadata": {},
     "output_type": "execute_result"
    }
   ],
   "source": [
    "drugs_target = drugs[['Drug']]\n",
    "drugs_target"
   ]
  },
  {
   "cell_type": "code",
   "execution_count": 7,
   "metadata": {
    "slideshow": {
     "slide_type": "slide"
    }
   },
   "outputs": [
    {
     "data": {
      "text/html": [
       "<div>\n",
       "<style scoped>\n",
       "    .dataframe tbody tr th:only-of-type {\n",
       "        vertical-align: middle;\n",
       "    }\n",
       "\n",
       "    .dataframe tbody tr th {\n",
       "        vertical-align: top;\n",
       "    }\n",
       "\n",
       "    .dataframe thead th {\n",
       "        text-align: right;\n",
       "    }\n",
       "</style>\n",
       "<table border=\"1\" class=\"dataframe\">\n",
       "  <thead>\n",
       "    <tr style=\"text-align: right;\">\n",
       "      <th></th>\n",
       "      <th>Age</th>\n",
       "      <th>BP</th>\n",
       "      <th>Cholesterol</th>\n",
       "      <th>Na_to_K</th>\n",
       "      <th>Sex</th>\n",
       "    </tr>\n",
       "  </thead>\n",
       "  <tbody>\n",
       "    <tr>\n",
       "      <th>0</th>\n",
       "      <td>23</td>\n",
       "      <td>HIGH</td>\n",
       "      <td>HIGH</td>\n",
       "      <td>25.355</td>\n",
       "      <td>F</td>\n",
       "    </tr>\n",
       "    <tr>\n",
       "      <th>1</th>\n",
       "      <td>47</td>\n",
       "      <td>LOW</td>\n",
       "      <td>HIGH</td>\n",
       "      <td>13.093</td>\n",
       "      <td>M</td>\n",
       "    </tr>\n",
       "    <tr>\n",
       "      <th>2</th>\n",
       "      <td>47</td>\n",
       "      <td>LOW</td>\n",
       "      <td>HIGH</td>\n",
       "      <td>10.114</td>\n",
       "      <td>M</td>\n",
       "    </tr>\n",
       "    <tr>\n",
       "      <th>3</th>\n",
       "      <td>28</td>\n",
       "      <td>NORMAL</td>\n",
       "      <td>HIGH</td>\n",
       "      <td>7.798</td>\n",
       "      <td>F</td>\n",
       "    </tr>\n",
       "    <tr>\n",
       "      <th>4</th>\n",
       "      <td>61</td>\n",
       "      <td>LOW</td>\n",
       "      <td>HIGH</td>\n",
       "      <td>18.043</td>\n",
       "      <td>F</td>\n",
       "    </tr>\n",
       "    <tr>\n",
       "      <th>...</th>\n",
       "      <td>...</td>\n",
       "      <td>...</td>\n",
       "      <td>...</td>\n",
       "      <td>...</td>\n",
       "      <td>...</td>\n",
       "    </tr>\n",
       "    <tr>\n",
       "      <th>195</th>\n",
       "      <td>56</td>\n",
       "      <td>LOW</td>\n",
       "      <td>HIGH</td>\n",
       "      <td>11.567</td>\n",
       "      <td>F</td>\n",
       "    </tr>\n",
       "    <tr>\n",
       "      <th>196</th>\n",
       "      <td>16</td>\n",
       "      <td>LOW</td>\n",
       "      <td>HIGH</td>\n",
       "      <td>12.006</td>\n",
       "      <td>M</td>\n",
       "    </tr>\n",
       "    <tr>\n",
       "      <th>197</th>\n",
       "      <td>52</td>\n",
       "      <td>NORMAL</td>\n",
       "      <td>HIGH</td>\n",
       "      <td>9.894</td>\n",
       "      <td>M</td>\n",
       "    </tr>\n",
       "    <tr>\n",
       "      <th>198</th>\n",
       "      <td>23</td>\n",
       "      <td>NORMAL</td>\n",
       "      <td>NORMAL</td>\n",
       "      <td>14.020</td>\n",
       "      <td>M</td>\n",
       "    </tr>\n",
       "    <tr>\n",
       "      <th>199</th>\n",
       "      <td>40</td>\n",
       "      <td>LOW</td>\n",
       "      <td>NORMAL</td>\n",
       "      <td>11.349</td>\n",
       "      <td>F</td>\n",
       "    </tr>\n",
       "  </tbody>\n",
       "</table>\n",
       "<p>200 rows × 5 columns</p>\n",
       "</div>"
      ],
      "text/plain": [
       "     Age      BP Cholesterol  Na_to_K Sex\n",
       "0     23    HIGH        HIGH   25.355   F\n",
       "1     47     LOW        HIGH   13.093   M\n",
       "2     47     LOW        HIGH   10.114   M\n",
       "3     28  NORMAL        HIGH    7.798   F\n",
       "4     61     LOW        HIGH   18.043   F\n",
       "..   ...     ...         ...      ...  ..\n",
       "195   56     LOW        HIGH   11.567   F\n",
       "196   16     LOW        HIGH   12.006   M\n",
       "197   52  NORMAL        HIGH    9.894   M\n",
       "198   23  NORMAL      NORMAL   14.020   M\n",
       "199   40     LOW      NORMAL   11.349   F\n",
       "\n",
       "[200 rows x 5 columns]"
      ]
     },
     "execution_count": 7,
     "metadata": {},
     "output_type": "execute_result"
    }
   ],
   "source": [
    "drugs_data = drugs[drugs.columns.difference(['Drug'])]\n",
    "drugs_data"
   ]
  },
  {
   "cell_type": "code",
   "execution_count": 8,
   "metadata": {
    "jupyter": {
     "source_hidden": true
    },
    "slideshow": {
     "slide_type": "skip"
    },
    "tags": []
   },
   "outputs": [],
   "source": [
    "pd.options.mode.chained_assignment = None"
   ]
  },
  {
   "cell_type": "markdown",
   "metadata": {
    "slideshow": {
     "slide_type": "slide"
    }
   },
   "source": [
    "# Pré-processamento de dados"
   ]
  },
  {
   "cell_type": "code",
   "execution_count": 9,
   "metadata": {
    "slideshow": {
     "slide_type": "-"
    }
   },
   "outputs": [
    {
     "name": "stdout",
     "output_type": "stream",
     "text": [
      "[array(['HIGH', 'LOW', 'NORMAL'], dtype=object), array(['HIGH', 'NORMAL'], dtype=object), array(['F', 'M'], dtype=object)]\n",
      "[1 0 0 1 0 1 0]\n"
     ]
    },
    {
     "data": {
      "text/plain": [
       "array(['x0_HIGH', 'x0_LOW', 'x0_NORMAL', 'x1_HIGH', 'x1_NORMAL', 'x2_F',\n",
       "       'x2_M'], dtype=object)"
      ]
     },
     "execution_count": 9,
     "metadata": {},
     "output_type": "execute_result"
    }
   ],
   "source": [
    "from sklearn.preprocessing import OneHotEncoder\n",
    "\n",
    "enc = OneHotEncoder(sparse=False, dtype=int)\n",
    "enc.fit(drugs_data[['BP','Cholesterol','Sex']])\n",
    "print(enc.categories_)\n",
    "\n",
    "drugs_data_enc = enc.transform(drugs_data[['BP','Cholesterol','Sex']])\n",
    "print(drugs_data_enc[0])\n",
    "\n",
    "enc.get_feature_names()"
   ]
  },
  {
   "cell_type": "code",
   "execution_count": 10,
   "metadata": {
    "slideshow": {
     "slide_type": "slide"
    }
   },
   "outputs": [
    {
     "data": {
      "text/html": [
       "<div>\n",
       "<style scoped>\n",
       "    .dataframe tbody tr th:only-of-type {\n",
       "        vertical-align: middle;\n",
       "    }\n",
       "\n",
       "    .dataframe tbody tr th {\n",
       "        vertical-align: top;\n",
       "    }\n",
       "\n",
       "    .dataframe thead th {\n",
       "        text-align: right;\n",
       "    }\n",
       "</style>\n",
       "<table border=\"1\" class=\"dataframe\">\n",
       "  <thead>\n",
       "    <tr style=\"text-align: right;\">\n",
       "      <th></th>\n",
       "      <th>Age</th>\n",
       "      <th>Na_to_K</th>\n",
       "      <th>x0_HIGH</th>\n",
       "      <th>x0_LOW</th>\n",
       "      <th>x0_NORMAL</th>\n",
       "      <th>x1_HIGH</th>\n",
       "      <th>x1_NORMAL</th>\n",
       "      <th>x2_F</th>\n",
       "      <th>x2_M</th>\n",
       "    </tr>\n",
       "  </thead>\n",
       "  <tbody>\n",
       "    <tr>\n",
       "      <th>0</th>\n",
       "      <td>23</td>\n",
       "      <td>25.355</td>\n",
       "      <td>1</td>\n",
       "      <td>0</td>\n",
       "      <td>0</td>\n",
       "      <td>1</td>\n",
       "      <td>0</td>\n",
       "      <td>1</td>\n",
       "      <td>0</td>\n",
       "    </tr>\n",
       "    <tr>\n",
       "      <th>1</th>\n",
       "      <td>47</td>\n",
       "      <td>13.093</td>\n",
       "      <td>0</td>\n",
       "      <td>1</td>\n",
       "      <td>0</td>\n",
       "      <td>1</td>\n",
       "      <td>0</td>\n",
       "      <td>0</td>\n",
       "      <td>1</td>\n",
       "    </tr>\n",
       "    <tr>\n",
       "      <th>2</th>\n",
       "      <td>47</td>\n",
       "      <td>10.114</td>\n",
       "      <td>0</td>\n",
       "      <td>1</td>\n",
       "      <td>0</td>\n",
       "      <td>1</td>\n",
       "      <td>0</td>\n",
       "      <td>0</td>\n",
       "      <td>1</td>\n",
       "    </tr>\n",
       "    <tr>\n",
       "      <th>3</th>\n",
       "      <td>28</td>\n",
       "      <td>7.798</td>\n",
       "      <td>0</td>\n",
       "      <td>0</td>\n",
       "      <td>1</td>\n",
       "      <td>1</td>\n",
       "      <td>0</td>\n",
       "      <td>1</td>\n",
       "      <td>0</td>\n",
       "    </tr>\n",
       "    <tr>\n",
       "      <th>4</th>\n",
       "      <td>61</td>\n",
       "      <td>18.043</td>\n",
       "      <td>0</td>\n",
       "      <td>1</td>\n",
       "      <td>0</td>\n",
       "      <td>1</td>\n",
       "      <td>0</td>\n",
       "      <td>1</td>\n",
       "      <td>0</td>\n",
       "    </tr>\n",
       "    <tr>\n",
       "      <th>...</th>\n",
       "      <td>...</td>\n",
       "      <td>...</td>\n",
       "      <td>...</td>\n",
       "      <td>...</td>\n",
       "      <td>...</td>\n",
       "      <td>...</td>\n",
       "      <td>...</td>\n",
       "      <td>...</td>\n",
       "      <td>...</td>\n",
       "    </tr>\n",
       "    <tr>\n",
       "      <th>195</th>\n",
       "      <td>56</td>\n",
       "      <td>11.567</td>\n",
       "      <td>0</td>\n",
       "      <td>1</td>\n",
       "      <td>0</td>\n",
       "      <td>1</td>\n",
       "      <td>0</td>\n",
       "      <td>1</td>\n",
       "      <td>0</td>\n",
       "    </tr>\n",
       "    <tr>\n",
       "      <th>196</th>\n",
       "      <td>16</td>\n",
       "      <td>12.006</td>\n",
       "      <td>0</td>\n",
       "      <td>1</td>\n",
       "      <td>0</td>\n",
       "      <td>1</td>\n",
       "      <td>0</td>\n",
       "      <td>0</td>\n",
       "      <td>1</td>\n",
       "    </tr>\n",
       "    <tr>\n",
       "      <th>197</th>\n",
       "      <td>52</td>\n",
       "      <td>9.894</td>\n",
       "      <td>0</td>\n",
       "      <td>0</td>\n",
       "      <td>1</td>\n",
       "      <td>1</td>\n",
       "      <td>0</td>\n",
       "      <td>0</td>\n",
       "      <td>1</td>\n",
       "    </tr>\n",
       "    <tr>\n",
       "      <th>198</th>\n",
       "      <td>23</td>\n",
       "      <td>14.020</td>\n",
       "      <td>0</td>\n",
       "      <td>0</td>\n",
       "      <td>1</td>\n",
       "      <td>0</td>\n",
       "      <td>1</td>\n",
       "      <td>0</td>\n",
       "      <td>1</td>\n",
       "    </tr>\n",
       "    <tr>\n",
       "      <th>199</th>\n",
       "      <td>40</td>\n",
       "      <td>11.349</td>\n",
       "      <td>0</td>\n",
       "      <td>1</td>\n",
       "      <td>0</td>\n",
       "      <td>0</td>\n",
       "      <td>1</td>\n",
       "      <td>1</td>\n",
       "      <td>0</td>\n",
       "    </tr>\n",
       "  </tbody>\n",
       "</table>\n",
       "<p>200 rows × 9 columns</p>\n",
       "</div>"
      ],
      "text/plain": [
       "     Age  Na_to_K  x0_HIGH  x0_LOW  x0_NORMAL  x1_HIGH  x1_NORMAL  x2_F  x2_M\n",
       "0     23   25.355        1       0          0        1          0     1     0\n",
       "1     47   13.093        0       1          0        1          0     0     1\n",
       "2     47   10.114        0       1          0        1          0     0     1\n",
       "3     28    7.798        0       0          1        1          0     1     0\n",
       "4     61   18.043        0       1          0        1          0     1     0\n",
       "..   ...      ...      ...     ...        ...      ...        ...   ...   ...\n",
       "195   56   11.567        0       1          0        1          0     1     0\n",
       "196   16   12.006        0       1          0        1          0     0     1\n",
       "197   52    9.894        0       0          1        1          0     0     1\n",
       "198   23   14.020        0       0          1        0          1     0     1\n",
       "199   40   11.349        0       1          0        0          1     1     0\n",
       "\n",
       "[200 rows x 9 columns]"
      ]
     },
     "execution_count": 10,
     "metadata": {},
     "output_type": "execute_result"
    }
   ],
   "source": [
    "new_drugs_data = drugs_data[['Age','Na_to_K']]\n",
    "new_drugs_data\n",
    "for i, fname in enumerate(enc.get_feature_names()):\n",
    "    new_drugs_data[fname] = drugs_data_enc[:,i]\n",
    "\n",
    "new_drugs_data"
   ]
  },
  {
   "cell_type": "code",
   "execution_count": 11,
   "metadata": {
    "slideshow": {
     "slide_type": "skip"
    }
   },
   "outputs": [],
   "source": [
    "import warnings\n",
    "from sklearn.exceptions import DataConversionWarning\n",
    "warnings.filterwarnings(action='ignore', category=DataConversionWarning)"
   ]
  },
  {
   "cell_type": "code",
   "execution_count": 12,
   "metadata": {
    "slideshow": {
     "slide_type": "slide"
    }
   },
   "outputs": [
    {
     "name": "stdout",
     "output_type": "stream",
     "text": [
      "['DrugY', 'drugA', 'drugB', 'drugC', 'drugX']\n"
     ]
    },
    {
     "data": {
      "text/plain": [
       "array([0, 3, 3, 4, 0, 4, 0, 3, 0, 0, 3, 0, 0, 0, 4, 0, 4, 1, 3, 0, 0, 0,\n",
       "       0, 0, 0, 0, 0, 4, 0, 0, 4, 2, 4, 0, 4, 4, 1, 4, 4, 4, 0, 2, 0, 4,\n",
       "       4, 4, 1, 3, 0, 0, 0, 4, 0, 0, 2, 3, 2, 0, 4, 0, 0, 1, 0, 4, 2, 0,\n",
       "       1, 4, 0, 0, 2, 0, 4, 0, 0, 0, 1, 0, 1, 4, 2, 4, 3, 1, 3, 2, 4, 0,\n",
       "       0, 0, 0, 0, 0, 0, 0, 4, 0, 0, 0, 0, 1, 1, 3, 4, 0, 4, 4, 0, 2, 0,\n",
       "       1, 4, 4, 4, 4, 0, 4, 4, 1, 0, 0, 0, 0, 0, 2, 0, 0, 4, 0, 4, 0, 0,\n",
       "       4, 0, 0, 4, 2, 1, 2, 4, 1, 0, 2, 0, 1, 4, 4, 1, 4, 3, 1, 2, 4, 4,\n",
       "       0, 3, 1, 0, 3, 4, 4, 2, 4, 0, 0, 0, 0, 4, 0, 1, 4, 4, 0, 0, 1, 0,\n",
       "       1, 0, 0, 0, 0, 4, 4, 0, 0, 0, 2, 1, 0, 0, 0, 1, 0, 3, 0, 3, 3, 4,\n",
       "       4, 4])"
      ]
     },
     "execution_count": 12,
     "metadata": {},
     "output_type": "execute_result"
    }
   ],
   "source": [
    "from sklearn.preprocessing import LabelEncoder\n",
    "\n",
    "le = LabelEncoder()\n",
    "le.fit(drugs_target.values)\n",
    "print(list(le.classes_))\n",
    "\n",
    "new_drugs_target = le.transform(drugs_target.values)\n",
    "new_drugs_target"
   ]
  },
  {
   "cell_type": "code",
   "execution_count": 13,
   "metadata": {
    "slideshow": {
     "slide_type": "slide"
    }
   },
   "outputs": [
    {
     "name": "stdout",
     "output_type": "stream",
     "text": [
      "Instância: [36.    11.424  0.     1.     0.     0.     1.     0.     1.   ]\n",
      "Predição: ['drugX']\n"
     ]
    }
   ],
   "source": [
    "from sklearn import svm\n",
    "\n",
    "\n",
    "drugs_data_train, drugs_data_test, drugs_target_train, drugs_target_test = train_test_split(\n",
    "     new_drugs_data.values, new_drugs_target, test_size=0.2, random_state=42)\n",
    "\n",
    "svc_model = svm.SVC(gamma=0.001, C=100., kernel='linear')\n",
    "svc_model.fit(drugs_data_train, drugs_target_train)\n",
    "\n",
    "print('Instância:', drugs_data_test[0])\n",
    "prediction = svc_model.predict([drugs_data_test[0]])[0]\n",
    "\n",
    "prediction_name = le.inverse_transform([prediction])\n",
    "print('Predição:', prediction_name)"
   ]
  },
  {
   "cell_type": "markdown",
   "metadata": {
    "slideshow": {
     "slide_type": "slide"
    }
   },
   "source": [
    "# Avaliação das hipóteses\n",
    "\n",
    "- Acurácia = Taxa de Erro\n",
    "    - Proporção de erros que um modelo comete\n",
    "- Taxa de Erro baixa no conjunto de treinamento não significa boa **generalização**\n",
    "    - **Generalização:** capacidade de uma hipótese predizer corretamente os valores de y para novos exemplos\n",
    "    - Para verificar a capacidade de generalização de uma hipótese, a avaliação deve ser em um conjunto de **exemplos não vistos** durante o **treinamento**: conjunto de teste"
   ]
  },
  {
   "cell_type": "markdown",
   "metadata": {
    "slideshow": {
     "slide_type": "slide"
    }
   },
   "source": [
    "# Escolha da melhor hipótese\n",
    "- **K-Fold Cross Validation**\n",
    "    - Cada exemplo será em algum momento de treinamento ou de validação\n",
    "        - Separar os dados em K subconjuntos\n",
    "        - Executar o algoritmo K vezes\n",
    "        - 1/K dos exemplos é de validação; o resto é de treinamento\n",
    "    - se K = N: leave-one-out cross validation"
   ]
  },
  {
   "cell_type": "markdown",
   "metadata": {
    "slideshow": {
     "slide_type": "slide"
    }
   },
   "source": [
    "# K-Fold Cross Validation\n",
    "<center>\n",
    "<img src=\"imagens/kfold.png\" height='450' width='750'>\n",
    "</center>\n",
    "Fonte: http://i.imgur.com/gu3Fa6w.png"
   ]
  },
  {
   "cell_type": "code",
   "execution_count": 14,
   "metadata": {
    "slideshow": {
     "slide_type": "slide"
    }
   },
   "outputs": [],
   "source": [
    "import numpy as np\n",
    "from sklearn.model_selection import KFold\n",
    "from sklearn.metrics import accuracy_score\n",
    "\n",
    "kf = KFold(n_splits=5)\n",
    "svm_scores = []\n",
    "knn_scores = []\n",
    "\n",
    "for train_index, test_index in kf.split(iris.data):\n",
    "    X_train, X_test = iris.data[train_index], iris.data[test_index]\n",
    "    y_train, y_test = iris.target[train_index], iris.target[test_index]\n",
    "    \n",
    "    svc_model.fit(X_train, y_train)\n",
    "    svc_predict = svc_model.predict(X_test)\n",
    "    svm_scores.append(accuracy_score(y_test, svc_predict))\n",
    "    \n",
    "    knn.fit(X_train, y_train)\n",
    "    neigh_predict = knn.predict(X_test)\n",
    "    knn_scores.append(accuracy_score(y_test, neigh_predict))"
   ]
  },
  {
   "cell_type": "code",
   "execution_count": 15,
   "metadata": {
    "slideshow": {
     "slide_type": "slide"
    }
   },
   "outputs": [
    {
     "name": "stdout",
     "output_type": "stream",
     "text": [
      "SVM:  0.9333333333333333\n",
      "KNN:  0.9133333333333333\n"
     ]
    }
   ],
   "source": [
    "svm_mean = np.array(svm_scores).mean()\n",
    "knn_mean = np.array(knn_scores).mean()\n",
    "\n",
    "print('SVM: ', svm_mean)\n",
    "print('KNN: ', knn_mean)"
   ]
  },
  {
   "cell_type": "markdown",
   "metadata": {
    "slideshow": {
     "slide_type": "slide"
    }
   },
   "source": [
    "# Overfitting\n",
    "\n",
    "- Considere _error(h)_ como uma medida de quantos exemplos são incorretamente classificados pela hipótese **h**\n",
    "     - Erro nos dados de treinamento: _error<sub>train</sub>(h)_\n",
    "     - Erro na distribuição inteira dos dados: _error<sub>D</sub>(h)_\n",
    "- Uma hipótese <span style=\"color:red\">**overfits**</span> os dados de treinamento se:\n",
    "    - Existe uma hipótese alternativa h' $\\in$ H tal que\n",
    "        - _error<sub>train</sub>(h)_ $ < $ _error<sub>train</sub>(h')_\n",
    "        - _error<sub>D</sub>(h)_ $ > $ _error<sub>D</sub>(h')_"
   ]
  },
  {
   "cell_type": "markdown",
   "metadata": {
    "slideshow": {
     "slide_type": "slide"
    }
   },
   "source": [
    "# Overfitting\n",
    "\n",
    "<center>\n",
    "    <img src=\"imagens/overfitting.png\"/>\n",
    "</center>"
   ]
  },
  {
   "cell_type": "markdown",
   "metadata": {
    "slideshow": {
     "slide_type": "slide"
    }
   },
   "source": [
    "# Aprendizado Não-Supervisionado\n",
    "\n",
    "- ### Dados de treinamento **NÃO incluem** a saída desejada\n"
   ]
  },
  {
   "cell_type": "markdown",
   "metadata": {
    "slideshow": {
     "slide_type": "slide"
    }
   },
   "source": [
    "# Agrupamento\n",
    "<br/>\n",
    "\n",
    "<center>\n",
    "<img src=\"imagens/cluster.png\"/>\n",
    "</center>"
   ]
  },
  {
   "cell_type": "markdown",
   "metadata": {
    "slideshow": {
     "slide_type": "slide"
    }
   },
   "source": [
    "# K-Means\n",
    "\n",
    "- O algoritmo compara os exemplos usando uma medida de distância\n",
    "    - Euclidiana, Manhattan, etc\n",
    "- Calcula centróides (pontos centrais) para cada uma das K classes\n",
    "    - Começa aleatório\n",
    "- Repete, refinando os valores de centróides pela média dos exemplos que pertencem ao centróide\n",
    "    - A descoberta do melhor valor de K também pode ser parte do algoritmo"
   ]
  },
  {
   "cell_type": "markdown",
   "metadata": {
    "slideshow": {
     "slide_type": "slide"
    }
   },
   "source": [
    "# K-Means\n",
    "\n",
    "<center>\n",
    "<img src=\"imagens/kmeans1.png\"/>\n",
    "</center>"
   ]
  },
  {
   "cell_type": "markdown",
   "metadata": {
    "slideshow": {
     "slide_type": "slide"
    }
   },
   "source": [
    "# K-Means\n",
    "\n",
    "<center>\n",
    "<img src=\"imagens/kmeans2.png\" style=\"display: inline;\"/>\n",
    "<img src=\"imagens/kmeans3.png\" style=\"display: inline;\"/>\n",
    "</center>"
   ]
  },
  {
   "cell_type": "markdown",
   "metadata": {
    "slideshow": {
     "slide_type": "slide"
    }
   },
   "source": [
    "# K-Means\n",
    "\n",
    "<center>\n",
    "<img src=\"imagens/kmeans4.png\" style=\"display: inline;\"/>\n",
    "<img src=\"imagens/kmeans5.png\" style=\"display: inline;\"/>\n",
    "</center>"
   ]
  },
  {
   "cell_type": "markdown",
   "metadata": {
    "slideshow": {
     "slide_type": "slide"
    }
   },
   "source": [
    "# K-Means\n",
    "\n",
    "<center>\n",
    "<img src=\"imagens/kmeans7.png\" style=\"display: inline;\"/>\n",
    "</center>"
   ]
  },
  {
   "cell_type": "code",
   "execution_count": 17,
   "metadata": {
    "slideshow": {
     "slide_type": "slide"
    }
   },
   "outputs": [
    {
     "data": {
      "text/plain": [
       "Text(0.5, 1.0, 'Dataset')"
      ]
     },
     "execution_count": 17,
     "metadata": {},
     "output_type": "execute_result"
    },
    {
     "data": {
      "image/png": "[encoded data removed]",
      "text/plain": [
       "<Figure size 432x288 with 1 Axes>"
      ]
     },
     "metadata": {
      "needs_background": "light"
     },
     "output_type": "display_data"
    }
   ],
   "source": [
    "import matplotlib.pyplot as plt\n",
    "from sklearn.datasets import make_blobs\n",
    "\n",
    "n_samples = 1500\n",
    "random_state = 170\n",
    "X, y = make_blobs(n_samples=n_samples, random_state=random_state)\n",
    "\n",
    "plt.plot()\n",
    "plt.scatter(X[:, 0], X[:, 1])\n",
    "plt.title(\"Dataset\")"
   ]
  },
  {
   "cell_type": "code",
   "execution_count": 18,
   "metadata": {
    "slideshow": {
     "slide_type": "slide"
    }
   },
   "outputs": [
    {
     "data": {
      "text/plain": [
       "Text(0.5, 1.0, 'K incorreto')"
      ]
     },
     "execution_count": 18,
     "metadata": {},
     "output_type": "execute_result"
    },
    {
     "data": {
      "image/png": "[encoded data removed]",
      "text/plain": [
       "<Figure size 432x288 with 1 Axes>"
      ]
     },
     "metadata": {
      "needs_background": "light"
     },
     "output_type": "display_data"
    }
   ],
   "source": [
    "from sklearn.cluster import KMeans\n",
    "\n",
    "y_pred = KMeans(n_clusters=2, random_state=random_state).fit_predict(X)\n",
    "plt.plot\n",
    "plt.scatter(X[:, 0], X[:, 1], c=y_pred)\n",
    "plt.title(\"K incorreto\")"
   ]
  },
  {
   "cell_type": "code",
   "execution_count": 19,
   "metadata": {
    "slideshow": {
     "slide_type": "slide"
    }
   },
   "outputs": [
    {
     "data": {
      "text/plain": [
       "Text(0.5, 1.0, 'K correto')"
      ]
     },
     "execution_count": 19,
     "metadata": {},
     "output_type": "execute_result"
    },
    {
     "data": {
      "image/png": "[encoded data removed]",
      "text/plain": [
       "<Figure size 432x288 with 1 Axes>"
      ]
     },
     "metadata": {
      "needs_background": "light"
     },
     "output_type": "display_data"
    }
   ],
   "source": [
    "y_pred = KMeans(n_clusters=3, random_state=random_state).fit_predict(X)\n",
    "plt.plot()\n",
    "plt.scatter(X[:, 0], X[:, 1], c=y_pred)\n",
    "plt.title(\"K correto\")"
   ]
  },
  {
   "cell_type": "markdown",
   "metadata": {
    "slideshow": {
     "slide_type": "slide"
    }
   },
   "source": [
    "# Visualização\n",
    "<center>\n",
    "    <img src='imagens/matplotlib.png'/>\n",
    "</center>"
   ]
  },
  {
   "cell_type": "code",
   "execution_count": 20,
   "metadata": {
    "slideshow": {
     "slide_type": "slide"
    }
   },
   "outputs": [
    {
     "name": "stdout",
     "output_type": "stream",
     "text": [
      "Atributos: 4\n"
     ]
    }
   ],
   "source": [
    "import matplotlib.pyplot as plt\n",
    "from mpl_toolkits.mplot3d import Axes3D\n",
    "\n",
    "print('Atributos:' , len(iris.data[0]))\n",
    "X = iris.data[:,:3]\n",
    "y = iris.target"
   ]
  },
  {
   "cell_type": "code",
   "execution_count": 36,
   "metadata": {
    "slideshow": {
     "slide_type": "slide"
    }
   },
   "outputs": [
    {
     "data": {
      "text/plain": [
       "<Axes3D:title={'center':'Primeiros 3 atributos do Iris'}, xlabel='Sepal Length', ylabel='Sepal Width'>"
      ]
     },
     "execution_count": 36,
     "metadata": {},
     "output_type": "execute_result"
    },
    {
     "data": {
      "image/png": "[encoded data removed]",
      "text/plain": [
       "<Figure size 432x288 with 1 Axes>"
      ]
     },
     "metadata": {
      "needs_background": "light"
     },
     "output_type": "display_data"
    }
   ],
   "source": [
    "fig = plt.figure(1, figsize=(6, 4))\n",
    "ax = Axes3D(fig, auto_add_to_figure=False)\n",
    "ax.scatter(X[:, 0], X[:, 1], X[:, 2], c=y)\n",
    "ax.set_title(\"Primeiros 3 atributos do Iris\")\n",
    "ax.set_xlabel(\"Sepal Length\")\n",
    "ax.set_ylabel(\"Sepal Width\")\n",
    "ax.set_zlabel(\"Petal Length\")\n",
    "fig.add_axes(ax)"
   ]
  },
  {
   "cell_type": "markdown",
   "metadata": {
    "slideshow": {
     "slide_type": "slide"
    }
   },
   "source": [
    "# Como entender e visualizar dados com muitos atributos?\n",
    "Exemplos: Dados de finanças, Dados climáticos, imagens\n",
    "\n",
    "- Usando uma técnica de redução de dimensionalidade!\n",
    "    - **PCA** (Principal Component Analysis)\n",
    "    - **LSA** (Latent Semantic Analysis)\n",
    "    - **LDA** (Linear Discriminant Analysis)"
   ]
  },
  {
   "cell_type": "markdown",
   "metadata": {
    "slideshow": {
     "slide_type": "slide"
    }
   },
   "source": [
    "# Análise de Componentes Principais (PCA)\n",
    "\n",
    "- **<span style='color:blue'>Combinação linear</span>** de variáveis, contendo a mesma informação das variáveis antes da combinação\n",
    "\n",
    "- Dados são **<span style='color:blue'>transformados</span>** para um subespaço de **<span style='color:blue'>dimensão menor</span>** em um novo sistemas de coordenadas\n",
    "    - Primeiro eixo corresponde ao primeiro **<span style='color:red'>componente principal</span>**\n",
    "        - Componente que explica a **<span style='color:red'>maior variância</span>** entre os dados"
   ]
  },
  {
   "cell_type": "markdown",
   "metadata": {
    "slideshow": {
     "slide_type": "slide"
    }
   },
   "source": [
    "# Análise de Componentes Principais (PCA)\n",
    "\n",
    "- **<span style='color:red'>Componentes Principais</span>** são os **<span style='color:red'>autovetores</span>** da matriz de covariância dos dados correspondem a direção (no espaço original) com a **<span style='color:green'>maior variância</span>** entre os dados\n",
    "    - **<span style='color:green'>Autovalor</span>** correspondente é um escalar que indica **<span style='color:green'>quanta variância</span>** existe nos dados ao longo do **<span style='color:red'>autovetor (CP)</span>**"
   ]
  },
  {
   "cell_type": "markdown",
   "metadata": {
    "slideshow": {
     "slide_type": "slide"
    }
   },
   "source": [
    "# Análise de Componentes Principais (PCA)\n",
    "\n",
    "- Um **<span style='color:green'>autovalor grande</span>** significa que o **<span style='color:red'>autovetor (CP)</span>** explica uma <span style='color:green'>grande</span> quantidade de <span style='color:green'>variância</span> entre os dados\n",
    "\n",
    "- Um **<span style='color:red'>autovetor (CP)</span>** com um **<span style='color:green'>autovalor zero</span>**: não explica <span style='color:green'>nenhuma variância</span> nos dados\n",
    "\n",
    "- Para usar o PCA para reduzir a dimensionalidade, **descartamos os autovetores com autovalor zero ou quase zero**\n",
    "- É indicado normalizar os dados antes..."
   ]
  },
  {
   "cell_type": "markdown",
   "metadata": {
    "slideshow": {
     "slide_type": "slide"
    }
   },
   "source": [
    "# Análise de Componentes Principais (PCA)\n",
    "\n",
    "- Facilita a visualização\n",
    "- Pode melhorar o desempenho de alguns algoritmos\n",
    "- Pode fazer com que os algoritmos rodem mais rápido\n",
    "- Reduz o risco de overfitting"
   ]
  },
  {
   "cell_type": "markdown",
   "metadata": {
    "slideshow": {
     "slide_type": "slide"
    }
   },
   "source": [
    "# Análise de Componentes Principais (PCA)\n",
    "\n",
    "<center>\n",
    "    <img src='imagens/pca1.png' style='display: inline; margin-left: -20%;'/>\n",
    "    <img src='imagens/pca2.png' style='display: inline;'/>\n",
    "</center>"
   ]
  },
  {
   "cell_type": "markdown",
   "metadata": {
    "slideshow": {
     "slide_type": "slide"
    }
   },
   "source": [
    "# Análise de Componentes Principais (PCA)\n",
    "\n",
    "<center>\n",
    "    <img src='imagens/pca3.png' style='display: inline; margin-left: -20%;'/>\n",
    "    <img src='imagens/pca4.png' style='display: inline;'/>\n",
    "</center>"
   ]
  },
  {
   "cell_type": "code",
   "execution_count": 22,
   "metadata": {
    "slideshow": {
     "slide_type": "slide"
    }
   },
   "outputs": [
    {
     "data": {
      "text/plain": [
       "Text(0, 0.5, 'Segundo CP')"
      ]
     },
     "execution_count": 22,
     "metadata": {},
     "output_type": "execute_result"
    },
    {
     "data": {
      "image/png": "[encoded data removed]",
      "text/plain": [
       "<Figure size 432x288 with 1 Axes>"
      ]
     },
     "metadata": {
      "needs_background": "light"
     },
     "output_type": "display_data"
    }
   ],
   "source": [
    "import matplotlib.pyplot as plt\n",
    "from sklearn import decomposition\n",
    "\n",
    "X = iris.data\n",
    "y = iris.target\n",
    "fig = plt.figure(1, figsize=(6, 4))\n",
    "pca = decomposition.PCA(n_components=2)\n",
    "pca.fit(X)\n",
    "X_reduzido = pca.transform(X)\n",
    "plt.scatter(X_reduzido[:,0],X_reduzido[:,1], c=y)\n",
    "plt.title('PCA Iris dataset')\n",
    "plt.xlabel('Primeiro CP')\n",
    "plt.ylabel('Segundo CP')"
   ]
  },
  {
   "cell_type": "markdown",
   "metadata": {
    "slideshow": {
     "slide_type": "slide"
    }
   },
   "source": [
    "# Cursos regulares no IC/UFF\n",
    "- Inteligência Artificial\n",
    "- Mineração de Dados\n",
    "- Aprendizado de Máquina\n",
    "- Tópicos Avançados em IA\n"
   ]
  },
  {
   "cell_type": "markdown",
   "metadata": {
    "slideshow": {
     "slide_type": "slide"
    }
   },
   "source": [
    "# Cursos on-line\n",
    "- DataCamp\n",
    "- KDD Nuggets\n",
    "- Udacity\n",
    "- Coursera"
   ]
  },
  {
   "cell_type": "markdown",
   "metadata": {
    "slideshow": {
     "slide_type": "slide"
    }
   },
   "source": [
    "<div>\n",
    "    <img src='imagens/ic.png' style='display: inline;' height=150 width=150/>\n",
    "</div>\n",
    "\n",
    "# Primeiros Passos em Aprendizado de Máquina com sklearn\n",
    "\n",
    "<div style='float: right;'>\n",
    "    <h3>Daniel Junior</h3>\n",
    "    <span>Doutorando em Ciência da Computação</span><br/>\n",
    "    <br/>\n",
    "    <span><strong>Orientadores:</strong> Aline Paes, Daniel Oliveira</span><br/>\n",
    "    <br/>\n",
    "    <span><strong>Adaptado de:</strong> <i>Aprendizado de Máquina: uma breve introdução</i> - Aline Paes</span>\n",
    "\n",
    "</div>"
   ]
  }
 ],
 "metadata": {
  "celltoolbar": "Slideshow",
  "kernelspec": {
   "display_name": "Python 3",
   "language": "python",
   "name": "python3"
  },
  "language_info": {
   "codemirror_mode": {
    "name": "ipython",
    "version": 3
   },
   "file_extension": ".py",
   "mimetype": "text/x-python",
   "name": "python",
   "nbconvert_exporter": "python",
   "pygments_lexer": "ipython3",
   "version": "3.7.4"
  }
 },
 "nbformat": 4,
 "nbformat_minor": 4
}
